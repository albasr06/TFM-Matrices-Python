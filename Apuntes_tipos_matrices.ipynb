{
  "nbformat": 4,
  "nbformat_minor": 0,
  "metadata": {
    "colab": {
      "provenance": [],
      "authorship_tag": "ABX9TyMIZ5fPp6S0HxofK1GZDDq/",
      "include_colab_link": true
    },
    "kernelspec": {
      "name": "python3",
      "display_name": "Python 3"
    },
    "language_info": {
      "name": "python"
    }
  },
  "cells": [
    {
      "cell_type": "markdown",
      "metadata": {
        "id": "view-in-github",
        "colab_type": "text"
      },
      "source": [
        "<a href=\"https://colab.research.google.com/github/albasr06/TFM-Matrices-Python/blob/main/Apuntes_tipos_matrices.ipynb\" target=\"_parent\"><img src=\"https://colab.research.google.com/assets/colab-badge.svg\" alt=\"Open In Colab\"/></a>"
      ]
    },
    {
      "cell_type": "code",
      "execution_count": null,
      "metadata": {
        "colab": {
          "base_uri": "https://localhost:8080/"
        },
        "id": "YWReftpPO-go",
        "outputId": "7bf1c68a-24be-40a1-eb76-1cf5af9d240b"
      },
      "outputs": [
        {
          "output_type": "stream",
          "name": "stdout",
          "text": [
            "Matriz cuadrada:\n",
            "[[1 2 3]\n",
            " [4 5 6]\n",
            " [7 8 9]]\n",
            "Dimensión: (3, 3)\n",
            "\n",
            "Matriz rectangular:\n",
            "[[1 2 3]\n",
            " [4 5 6]]\n",
            "Dimensión: (2, 3)\n",
            "\n",
            "Matriz fila:\n",
            "[[1 2 3]]\n",
            "Dimensión: (1, 3)\n",
            "\n",
            "Matriz columna:\n",
            "[[1]\n",
            " [2]\n",
            " [3]]\n",
            "Dimensión: (3, 1)\n"
          ]
        }
      ],
      "source": [
        "\n",
        "import numpy as np\n",
        "\n",
        "# Matriz cuadrada\n",
        "matriz_cuadrada = np.array([[1, 2, 3],\n",
        "                           [4, 5, 6],\n",
        "                           [7, 8, 9]])\n",
        "print(\"Matriz cuadrada:\")\n",
        "print(matriz_cuadrada)\n",
        "print(\"Dimensión:\", matriz_cuadrada.shape)\n",
        "\n",
        "\n",
        "# Matriz rectangular\n",
        "matriz_rectangular = np.array([[1, 2, 3],\n",
        "                              [4, 5, 6]])\n",
        "print(\"\\nMatriz rectangular:\")\n",
        "print(matriz_rectangular)\n",
        "print(\"Dimensión:\", matriz_rectangular.shape)\n",
        "\n",
        "\n",
        "# Matriz fila\n",
        "matriz_fila = np.array([[1, 2, 3]])\n",
        "print(\"\\nMatriz fila:\")\n",
        "print(matriz_fila)\n",
        "print(\"Dimensión:\", matriz_fila.shape)\n",
        "\n",
        "\n",
        "# Matriz columna\n",
        "matriz_columna = np.array([[1],\n",
        "                           [2],\n",
        "                           [3]])\n",
        "print(\"\\nMatriz columna:\")\n",
        "print(matriz_columna)\n",
        "print(\"Dimensión:\", matriz_columna.shape)"
      ]
    },
    {
      "cell_type": "code",
      "source": [
        "\n",
        "#diagonal principal\n",
        "print(matriz_cuadrada.diagonal())\n",
        "\n",
        "#diagonal secundaria\n",
        "matriz_cuadrada_flip = np.fliplr(matriz_cuadrada)\n",
        "print(matriz_cuadrada_flip)\n",
        "print(matriz_cuadrada_flip.diagonal())\n",
        "\n",
        "##elementos en la diagonal superior a la principal\n",
        "print(matriz_cuadrada.diagonal(offset=1))\n",
        "\n",
        "##elementos en la diagonal inferior a la principal\n",
        "print(matriz_cuadrada.diagonal(offset=-1))\n"
      ],
      "metadata": {
        "colab": {
          "base_uri": "https://localhost:8080/"
        },
        "id": "mkMoVxg-cQys",
        "outputId": "524bf413-9e80-44c2-cb13-47e49dad8c6d"
      },
      "execution_count": null,
      "outputs": [
        {
          "output_type": "stream",
          "name": "stdout",
          "text": [
            "<class 'numpy.matrix'>\n",
            "[[1 5 9]]\n",
            "[[3 2 1]\n",
            " [6 5 4]\n",
            " [9 8 7]]\n",
            "[[3 5 7]]\n",
            "[[2 6]]\n",
            "[[4 8]]\n"
          ]
        }
      ]
    },
    {
      "cell_type": "code",
      "source": [
        "#matriz triangular\n",
        "np.identity(3)"
      ],
      "metadata": {
        "colab": {
          "base_uri": "https://localhost:8080/"
        },
        "id": "BmpaFhUnsiY_",
        "outputId": "a9cf747f-77eb-42f6-d3a3-007688e92192"
      },
      "execution_count": null,
      "outputs": [
        {
          "output_type": "execute_result",
          "data": {
            "text/plain": [
              "array([[1., 0., 0.],\n",
              "       [0., 1., 0.],\n",
              "       [0., 0., 1.]])"
            ]
          },
          "metadata": {},
          "execution_count": 20
        }
      ]
    },
    {
      "cell_type": "code",
      "source": [
        "#triangular superior\n",
        "print(np.triu(matriz_cuadrada))\n",
        "#triangular inferior\n",
        "print(np.tril(matriz_cuadrada))"
      ],
      "metadata": {
        "colab": {
          "base_uri": "https://localhost:8080/"
        },
        "id": "1xLtAZFZz_WC",
        "outputId": "999cb2e4-8c88-4de2-8ada-6102fba00792"
      },
      "execution_count": null,
      "outputs": [
        {
          "output_type": "stream",
          "name": "stdout",
          "text": [
            "[[1 2 3]\n",
            " [0 5 6]\n",
            " [0 0 9]]\n",
            "[[1 0 0]\n",
            " [4 5 0]\n",
            " [7 8 9]]\n"
          ]
        }
      ]
    },
    {
      "cell_type": "code",
      "source": [
        "#matriz nula\n",
        "np.zeros((2, 3))\n"
      ],
      "metadata": {
        "colab": {
          "base_uri": "https://localhost:8080/"
        },
        "id": "N_eXoHoP489K",
        "outputId": "b3d0d6fe-4ec2-4b68-96e4-52385701340b"
      },
      "execution_count": null,
      "outputs": [
        {
          "output_type": "execute_result",
          "data": {
            "text/plain": [
              "array([[0., 0., 0.],\n",
              "       [0., 0., 0.]])"
            ]
          },
          "metadata": {},
          "execution_count": 25
        }
      ]
    },
    {
      "cell_type": "code",
      "source": [
        "#matriz transpuesta\n",
        "a = np.array([[1, 2, 3], [4,0,3]])\n",
        "print(np.transpose(a))"
      ],
      "metadata": {
        "colab": {
          "base_uri": "https://localhost:8080/"
        },
        "id": "6BCc1fcF6UaR",
        "outputId": "a30b536a-6b98-47b4-cabc-91521e3965e6"
      },
      "execution_count": null,
      "outputs": [
        {
          "output_type": "stream",
          "name": "stdout",
          "text": [
            "[[1 4]\n",
            " [2 0]\n",
            " [3 3]]\n"
          ]
        }
      ]
    }
  ]
}