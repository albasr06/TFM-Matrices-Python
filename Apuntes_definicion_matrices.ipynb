{
  "nbformat": 4,
  "nbformat_minor": 0,
  "metadata": {
    "colab": {
      "provenance": [],
      "authorship_tag": "ABX9TyOPGfxw3HnbQVkZbcXBW9bO",
      "include_colab_link": true
    },
    "kernelspec": {
      "name": "python3",
      "display_name": "Python 3"
    },
    "language_info": {
      "name": "python"
    }
  },
  "cells": [
    {
      "cell_type": "markdown",
      "metadata": {
        "id": "view-in-github",
        "colab_type": "text"
      },
      "source": [
        "<a href=\"https://colab.research.google.com/github/albasr06/TFM-Matrices-Python/blob/main/Apuntes_definicion_matrices.ipynb\" target=\"_parent\"><img src=\"https://colab.research.google.com/assets/colab-badge.svg\" alt=\"Open In Colab\"/></a>"
      ]
    },
    {
      "cell_type": "code",
      "execution_count": null,
      "metadata": {
        "id": "yrZ9sjZwONA6",
        "colab": {
          "base_uri": "https://localhost:8080/"
        },
        "outputId": "a9414c76-f4d5-4f38-be9e-e5a715d9e623"
      },
      "outputs": [
        {
          "output_type": "stream",
          "name": "stdout",
          "text": [
            "[[6.5, 8.2, 4.9], [9.1, 5.7, 6.3], [7.4, 3.5, 9.8], [2.3, 9.0, 7.1]]\n"
          ]
        }
      ],
      "source": [
        "# Asignaturas: Matemáticas, Ciencias, Inglés\n",
        "calificaciones = [\n",
        "    [6.5, 8.2, 4.9],  # Ana\n",
        "    [9.1, 5.7, 6.3],  # Luis\n",
        "    [7.4, 3.5, 9.8],  # María\n",
        "    [2.3, 9.0, 7.1]   # Carlos\n",
        "]\n",
        "print(calificaciones)"
      ]
    },
    {
      "cell_type": "code",
      "source": [
        "\n",
        "n_filas = len(calificaciones)\n",
        "n_columnas = len(calificaciones[0])\n",
        "print( 'Hay', n_filas, 'alumnos y', n_columnas, 'asignaturas ')\n"
      ],
      "metadata": {
        "colab": {
          "base_uri": "https://localhost:8080/"
        },
        "id": "Iq8ac7HYORSi",
        "outputId": "0d290c0d-76e8-4270-dfa9-0a7b508f1dfe"
      },
      "execution_count": null,
      "outputs": [
        {
          "output_type": "stream",
          "name": "stdout",
          "text": [
            "Hay 4 alumnos y 3 asignaturas \n"
          ]
        }
      ]
    },
    {
      "cell_type": "code",
      "source": [
        "nota_ana_mates = calificaciones[0][0]\n",
        "print('La nota de Ana en Matemáticas es un', nota_ana_mates)"
      ],
      "metadata": {
        "colab": {
          "base_uri": "https://localhost:8080/"
        },
        "id": "B9lVXihtPw37",
        "outputId": "306fa70f-c4b4-4397-c3c4-c7bb6b940726"
      },
      "execution_count": null,
      "outputs": [
        {
          "output_type": "stream",
          "name": "stdout",
          "text": [
            "La nota de Ana en Matemáticas es un 6.5\n"
          ]
        }
      ]
    },
    {
      "cell_type": "code",
      "source": [
        "calificaciones[0][0] += 1\n",
        "print('La nueva nota de Ana en Matemáticas es un', calificaciones[0][0])"
      ],
      "metadata": {
        "colab": {
          "base_uri": "https://localhost:8080/"
        },
        "id": "32to1xRQRaaY",
        "outputId": "3bd11ddc-f30a-477d-fc7f-866f51d258ac"
      },
      "execution_count": null,
      "outputs": [
        {
          "output_type": "stream",
          "name": "stdout",
          "text": [
            "La nueva nota de Ana en Matemáticas es un 7.5\n"
          ]
        }
      ]
    },
    {
      "cell_type": "code",
      "source": [
        "def imprimir_matriz(matriz):\n",
        "    n_filas = len(matriz)\n",
        "    n_columnas = len(matriz[0])\n",
        "\n",
        "    # Recorrer cada fila de la matriz\n",
        "    for i in range(n_filas):\n",
        "        # Recorrer cada columna de la fila actual\n",
        "        for j in range(n_columnas):\n",
        "            # Imprimir la posición y el valor del elemento actual\n",
        "            print(f\"El valor en la posicion [{i}][{j}] es \",matriz[i][j])\n",
        "\n",
        "imprimir_matriz(calificaciones)"
      ],
      "metadata": {
        "colab": {
          "base_uri": "https://localhost:8080/"
        },
        "id": "wf96YLEzR_FJ",
        "outputId": "6a7da87d-356c-405f-e535-ccfabca326c5"
      },
      "execution_count": null,
      "outputs": [
        {
          "output_type": "stream",
          "name": "stdout",
          "text": [
            "El valor en la posicion [0][0] es  7.5\n",
            "El valor en la posicion [0][1] es  8.2\n",
            "El valor en la posicion [0][2] es  4.9\n",
            "El valor en la posicion [1][0] es  9.1\n",
            "El valor en la posicion [1][1] es  5.7\n",
            "El valor en la posicion [1][2] es  6.3\n",
            "El valor en la posicion [2][0] es  7.4\n",
            "El valor en la posicion [2][1] es  3.5\n",
            "El valor en la posicion [2][2] es  9.8\n",
            "El valor en la posicion [3][0] es  2.3\n",
            "El valor en la posicion [3][1] es  9.0\n",
            "El valor en la posicion [3][2] es  7.1\n"
          ]
        }
      ]
    },
    {
      "cell_type": "code",
      "source": [
        "#Creamos una lista donde guardar las notas de Luis\n",
        "#(segunda fila)\n",
        "notas_luis = calificaciones[1]\n",
        "\n",
        "# Calculamos la media de las calificaciones de Luis\n",
        "media_luis = sum(notas_luis) / len(notas_luis)\n",
        "\n",
        "# Mostramos la media\n",
        "print(media_luis)"
      ],
      "metadata": {
        "colab": {
          "base_uri": "https://localhost:8080/"
        },
        "id": "_m_tRgEFSh9j",
        "outputId": "a89bfa4b-ce0e-4486-a585-1401d84d1bdf"
      },
      "execution_count": null,
      "outputs": [
        {
          "output_type": "stream",
          "name": "stdout",
          "text": [
            "7.033333333333334\n"
          ]
        }
      ]
    },
    {
      "cell_type": "code",
      "source": [
        "#Creamos una lista vacía donde almacenar las notas\n",
        "notas_matematicas = []\n",
        "# Extraemos las calificaciones de Matemáticas (primera columna)\n",
        "for fila in calificaciones:\n",
        "    notas_matematicas.append(fila[0])\n",
        "\n",
        "# Calculamos la media de las calificaciones de Matemáticas\n",
        "media_matematicas = sum(notas_matematicas) / len(notas_matematicas)\n",
        "\n",
        "# Mostramos la media\n",
        "print(media_matematicas)"
      ],
      "metadata": {
        "colab": {
          "base_uri": "https://localhost:8080/"
        },
        "id": "_K-MIl6BSqo4",
        "outputId": "2d304458-db95-4051-dba2-c468d83cfe52"
      },
      "execution_count": null,
      "outputs": [
        {
          "output_type": "stream",
          "name": "stdout",
          "text": [
            "6.575\n"
          ]
        }
      ]
    },
    {
      "cell_type": "code",
      "source": [
        "#La primera vez que utilizamos numpy es necesario instalar la librería\n",
        "!pip install numpy\n",
        "#importamos la librería\n",
        "import numpy as np\n",
        "calificaciones_numpy = np.matrix(calificaciones)\n",
        "print(\"Matriz de calificaciones usando NumPy:\")\n",
        "print(calificaciones_numpy)"
      ],
      "metadata": {
        "colab": {
          "base_uri": "https://localhost:8080/"
        },
        "id": "YT7PWLzSdwun",
        "outputId": "1d504916-f4d7-4e75-b5a2-af369c839cc4"
      },
      "execution_count": null,
      "outputs": [
        {
          "output_type": "stream",
          "name": "stdout",
          "text": [
            "Requirement already satisfied: numpy in /usr/local/lib/python3.10/dist-packages (1.26.4)\n",
            "Matriz de calificaciones usando NumPy:\n",
            "[[7.5 8.2 4.9]\n",
            " [9.1 5.7 6.3]\n",
            " [7.4 3.5 9.8]\n",
            " [2.3 9.  7.1]]\n"
          ]
        }
      ]
    },
    {
      "cell_type": "code",
      "source": [
        "print(type(calificaciones))\n",
        "print(type(calificaciones_numpy))"
      ],
      "metadata": {
        "colab": {
          "base_uri": "https://localhost:8080/"
        },
        "id": "fMZQoQgnifBX",
        "outputId": "005d7409-b746-4465-97c3-df20bf3c7534"
      },
      "execution_count": null,
      "outputs": [
        {
          "output_type": "stream",
          "name": "stdout",
          "text": [
            "<class 'list'>\n",
            "<class 'numpy.matrix'>\n"
          ]
        }
      ]
    },
    {
      "cell_type": "code",
      "source": [
        "dimension_calificaciones = calificaciones_numpy.shape\n",
        "print('La dimensión de esta matriz es', dimension_calificaciones[0], 'x', dimension_calificaciones[1])"
      ],
      "metadata": {
        "colab": {
          "base_uri": "https://localhost:8080/"
        },
        "id": "2r84uLE-lUGw",
        "outputId": "f40edb7e-e171-4309-c45c-0f3d7b0be20a"
      },
      "execution_count": null,
      "outputs": [
        {
          "output_type": "stream",
          "name": "stdout",
          "text": [
            "La dimensión de esta matriz es 4 x 3\n"
          ]
        }
      ]
    },
    {
      "cell_type": "code",
      "source": [
        "#Notas de Ana\n",
        "print(calificaciones_numpy[0])\n",
        "#Notas en Matemáticas\n",
        "print(calificaciones_numpy[:,0])\n",
        "\n",
        "#Nota de Ana en Matemáticas\n",
        "print(calificaciones_numpy[0,0])\n"
      ],
      "metadata": {
        "colab": {
          "base_uri": "https://localhost:8080/"
        },
        "id": "f1jdw-p1wl9t",
        "outputId": "99f7c4e1-652f-44b1-f315-1e773fb7a1cf"
      },
      "execution_count": null,
      "outputs": [
        {
          "output_type": "stream",
          "name": "stdout",
          "text": [
            "[[7.5 8.2 4.9]]\n",
            "[[7.5]\n",
            " [9.1]\n",
            " [7.4]\n",
            " [2.3]]\n",
            "7.5\n"
          ]
        }
      ]
    },
    {
      "cell_type": "code",
      "source": [
        "media_matematicas = calificaciones_numpy[:,0].mean()\n",
        "print(media_matematicas)\n",
        "media_luis = calificaciones_numpy[1].mean()\n",
        "print(media_luis)"
      ],
      "metadata": {
        "colab": {
          "base_uri": "https://localhost:8080/"
        },
        "id": "8HXm7Moz0tXs",
        "outputId": "13a426e6-9c9a-4449-e484-8f6408f19112"
      },
      "execution_count": null,
      "outputs": [
        {
          "output_type": "stream",
          "name": "stdout",
          "text": [
            "6.575\n",
            "7.033333333333334\n"
          ]
        }
      ]
    },
    {
      "cell_type": "code",
      "source": [
        "#media por columnas\n",
        "medias_asignaturas = calificaciones_numpy.mean(axis=0)\n",
        "print(medias_asignaturas)\n",
        "\n",
        "#media por filas\n",
        "medias_alumno = calificaciones_numpy.mean(axis=1)\n",
        "print(medias_alumno)\n",
        "\n",
        "#media de todos los valores\n",
        "media_total = calificaciones_numpy.mean()\n",
        "print(media_total)"
      ],
      "metadata": {
        "colab": {
          "base_uri": "https://localhost:8080/"
        },
        "id": "fwU0kESo7d57",
        "outputId": "8ee75589-0f6b-48a6-8d7e-e9e536cac57c"
      },
      "execution_count": null,
      "outputs": [
        {
          "output_type": "stream",
          "name": "stdout",
          "text": [
            "[[6.575 6.6   7.025]]\n",
            "[[6.86666667]\n",
            " [7.03333333]\n",
            " [6.9       ]\n",
            " [6.13333333]]\n",
            "6.733333333333332\n"
          ]
        }
      ]
    }
  ]
}