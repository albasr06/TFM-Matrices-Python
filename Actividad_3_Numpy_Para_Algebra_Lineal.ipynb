{
  "nbformat": 4,
  "nbformat_minor": 0,
  "metadata": {
    "colab": {
      "provenance": [],
      "authorship_tag": "ABX9TyO3TGmApLZm6hk2nWsQN0Rb",
      "include_colab_link": true
    },
    "kernelspec": {
      "name": "python3",
      "display_name": "Python 3"
    },
    "language_info": {
      "name": "python"
    }
  },
  "cells": [
    {
      "cell_type": "markdown",
      "metadata": {
        "id": "view-in-github",
        "colab_type": "text"
      },
      "source": [
        "<a href=\"https://colab.research.google.com/github/albasr06/TFM-Matrices-Python/blob/main/Actividad_3_Numpy_Para_Algebra_Lineal.ipynb\" target=\"_parent\"><img src=\"https://colab.research.google.com/assets/colab-badge.svg\" alt=\"Open In Colab\"/></a>"
      ]
    },
    {
      "cell_type": "markdown",
      "source": [
        "En los apuntes vimos que era posible calcular el rango de una matriz mediante los menores adjuntos. Crea una función en Python que te permita calcular el rango de esta manera, y compara tu resultado con el proporcionado con Numpy (4 ptos)"
      ],
      "metadata": {
        "id": "oDhh_PXei_0f"
      }
    },
    {
      "cell_type": "code",
      "execution_count": 1,
      "metadata": {
        "colab": {
          "base_uri": "https://localhost:8080/"
        },
        "id": "nf2j7BxKbt3-",
        "outputId": "e2db808e-4a16-46d8-fe59-228ae04f955b"
      },
      "outputs": [
        {
          "output_type": "stream",
          "name": "stdout",
          "text": [
            "Rango de la matriz (usando np.linalg.matrix_rank): 2\n",
            "Rango de la matriz (calculando determinantes): 2\n"
          ]
        }
      ],
      "source": [
        "\n",
        "import numpy as np\n",
        "\n",
        "def calcular_rango_con_determinantes(matriz):\n",
        "    \"\"\"\n",
        "    Calcula el rango de una matriz calculando los determinantes de sus submatrices.\n",
        "\n",
        "    Parámetros:\n",
        "    matriz (np.ndarray): La matriz de la cual se calculará el rango.\n",
        "\n",
        "    Retorna:\n",
        "    El rango calculado de la matriz.\n",
        "    \"\"\"\n",
        "    # Obtiene el número de filas y columnas de la matriz\n",
        "    filas, columnas = matriz.shape\n",
        "    # Inicializamos el rango en 0\n",
        "    rango = 0\n",
        "\n",
        "    # Itera sobre los menores principales (submatrices cuadradas)\n",
        "    for i in range(min(filas, columnas)):\n",
        "        # Extrae una submatriz de tamaño (i+1) x (i+1) desde la esquina superior izquierda\n",
        "        submatriz = matriz[:i+1, :i+1]\n",
        "\n",
        "        # Calcula el determinante de la submatriz\n",
        "        determinante = np.linalg.det(submatriz)\n",
        "\n",
        "        # Si el determinante es significativamente diferente de cero, incrementa el rango\n",
        "        # (Usamos una tolerancia para evitar errores de redondeo)\n",
        "        if abs(determinante) > 1e-10:\n",
        "            rango += 1\n",
        "\n",
        "    return rango\n",
        "\n",
        "# Definimos una matriz de ejemplo\n",
        "matriz = np.array([\n",
        "    [8, 9, 10],\n",
        "    [10, 11, 12],\n",
        "    [12, 13, 14]\n",
        "])\n",
        "\n",
        "# Calculamos el rango de la matriz usando np.linalg.matrix_rank, para ver el resultado correcto\n",
        "rango_matriz_np = np.linalg.matrix_rank(matriz)\n",
        "print(\"Rango de la matriz (usando np.linalg.matrix_rank):\", rango_matriz_np)\n",
        "\n",
        "# Calculamos el rango de la matriz usando la función que calcula determinantes de submatrices que definimos\n",
        "rango_matriz_det = calcular_rango_con_determinantes(matriz)\n",
        "print(\"Rango de la matriz (calculando determinantes):\", rango_matriz_det)\n"
      ]
    },
    {
      "cell_type": "markdown",
      "source": [
        "Investiga en la web como expresar una matriz ampliada (A|B) usando numpy, y crea una función que te diga si el rango(A) = rango(A|B) devolviendo True o False (2 puntos)"
      ],
      "metadata": {
        "id": "V_KwzxYRm3Mr"
      }
    },
    {
      "cell_type": "code",
      "source": [
        "\n",
        "\n",
        "def rango_igual(A, B):\n",
        "    \"\"\"\n",
        "    Comprueba si rango(A) = rango(A|B).\n",
        "\n",
        "    Args:\n",
        "        A: Matriz de coeficientes del sistema.\n",
        "        B: Matriz de términos independientes.\n",
        "\n",
        "    Retorna:\n",
        "        True si rango(A) = rango(A|B), False en caso contrario.\n",
        "    \"\"\"\n",
        "    # Combina las matrices A y B para formar la matriz ampliada (A|B)\n",
        "    AB = np.concatenate((A, B), axis=1)\n",
        "\n",
        "    # Calcula el rango de la matriz A\n",
        "    rango_A = np.linalg.matrix_rank(A)\n",
        "\n",
        "    # Calcula el rango de la matriz ampliada (A|B)\n",
        "    rango_AB = np.linalg.matrix_rank(AB)\n",
        "\n",
        "    # Devuelve True si los rangos son iguales, False en caso contrario\n",
        "    return rango_A == rango_AB\n",
        "\n"
      ],
      "metadata": {
        "colab": {
          "base_uri": "https://localhost:8080/"
        },
        "id": "kzB3LXTdjvzc",
        "outputId": "fd9968a5-6587-4611-b8d9-1cc569c4f5b6"
      },
      "execution_count": 3,
      "outputs": [
        {
          "output_type": "stream",
          "name": "stdout",
          "text": [
            "Solución usando la inversa:\n",
            "[[1.]\n",
            " [2.]]\n",
            "\n",
            "Solución usando np.linalg.solve:\n",
            "[[1.]\n",
            " [2.]]\n"
          ]
        }
      ]
    },
    {
      "cell_type": "markdown",
      "source": [
        "Haz uso de la función que acabas de definir para comparar el rango de A con el de la ampliada para resolver un sistema AX = B multiplicando por la inversa, como vimos en clase. Comprueba que se cumplen las condiciones necesarias para ello, y comprueba el resultado final usando las funciones que conoces de Numpy (4 ptos)"
      ],
      "metadata": {
        "id": "XJSIhKCOnaN6"
      }
    },
    {
      "cell_type": "code",
      "source": [
        "\n",
        "def resolver_sistema(A, B):\n",
        "    \"\"\"\n",
        "    Resuelve el sistema de ecuaciones AX = B.\n",
        "\n",
        "    Args:\n",
        "        A: Matriz de coeficientes del sistema.\n",
        "        B: Matriz de términos independientes.\n",
        "\n",
        "    Retorna:\n",
        "        La solución X si el sistema es resoluble, None en caso contrario.\n",
        "    \"\"\"\n",
        "    # Verifica si el sistema es compatible usando la condición de rango\n",
        "    if rango_igual(A, B):\n",
        "        # Comprueba si A es cuadrada y su determinante es distinto de cero (verifica si es invertible)\n",
        "        if A.shape[0] == A.shape[1] and np.linalg.det(A) != 0:\n",
        "            # Calcula la inversa de A y usa la fórmula X = A_inv * B\n",
        "            A_inv = np.linalg.inv(A)\n",
        "            X = np.dot(A_inv, B)\n",
        "            return X\n",
        "        else:\n",
        "            print(\"La matriz A no es invertible.\")\n",
        "            return None\n",
        "    else:\n",
        "        print(\"El sistema no tiene solución.\")\n",
        "        return None\n",
        "\n",
        "\n",
        "# Ejemplo de uso\n",
        "A = np.array([[2, 3], [1, 2]])\n",
        "B = np.array([[8], [5]])\n",
        "\n",
        "# Resolver el sistema usando la función personalizada\n",
        "X_inv = resolver_sistema(A, B)\n",
        "if X_inv is not None:\n",
        "    print(\"Solución usando la inversa:\")\n",
        "    print(X_inv)\n",
        "\n",
        "# Resolver el sistema usando np.linalg.solve (método alternativo)\n",
        "X_solve = np.linalg.solve(A, B)\n",
        "print(\"\\nSolución usando np.linalg.solve:\")\n",
        "print(X_solve)\n",
        "\n"
      ],
      "metadata": {
        "id": "OCV884xvmz1z"
      },
      "execution_count": null,
      "outputs": []
    }
  ]
}