{
  "nbformat": 4,
  "nbformat_minor": 0,
  "metadata": {
    "colab": {
      "provenance": [],
      "authorship_tag": "ABX9TyOfLf6upq1ojKdmR9oC0ElF",
      "include_colab_link": true
    },
    "kernelspec": {
      "name": "python3",
      "display_name": "Python 3"
    },
    "language_info": {
      "name": "python"
    }
  },
  "cells": [
    {
      "cell_type": "markdown",
      "metadata": {
        "id": "view-in-github",
        "colab_type": "text"
      },
      "source": [
        "<a href=\"https://colab.research.google.com/github/albasr06/TFM-Matrices-Python/blob/main/Apuntes_Rango_y_Determinantes.ipynb\" target=\"_parent\"><img src=\"https://colab.research.google.com/assets/colab-badge.svg\" alt=\"Open In Colab\"/></a>"
      ]
    },
    {
      "cell_type": "code",
      "source": [
        "import numpy as np\n",
        "\n",
        "mat_2x2 = np.array([[1, 2], [3, 4]])\n",
        "det_mat_2x2 = np.linalg.det(mat_2x2)\n",
        "print(\"Determinante 2x2:\", det_mat_2x2)\n",
        "\n",
        "mat_3x3 = np.array([[1, 2, 3], [0, 1, 4], [5, 6, 0]])\n",
        "det_mat_3x3 = np.linalg.det(mat_3x3)\n",
        "print(\"Determinante 3x3:\", det_mat_3x3)"
      ],
      "metadata": {
        "colab": {
          "base_uri": "https://localhost:8080/"
        },
        "id": "YX4gBuLsB-9x",
        "outputId": "599ff304-44fe-4eff-ae8d-220c0943e636"
      },
      "execution_count": null,
      "outputs": [
        {
          "output_type": "stream",
          "name": "stdout",
          "text": [
            "Determinante 2x2: -2.0000000000000004\n",
            "Determinante 3x3: 0.9999999999999964\n"
          ]
        }
      ]
    },
    {
      "cell_type": "code",
      "execution_count": null,
      "metadata": {
        "colab": {
          "base_uri": "https://localhost:8080/"
        },
        "id": "4QKrlL02iFS0",
        "outputId": "24b200d4-0e81-4cde-9ccf-975e9beb3874"
      },
      "outputs": [
        {
          "output_type": "stream",
          "name": "stdout",
          "text": [
            "3\n"
          ]
        }
      ],
      "source": [
        "\n",
        "\n",
        "# Calculamos el rango de la matriz\n",
        "rango_matriz = np.linalg.matrix_rank(mat_3x3)\n",
        "print(rango_matriz)\n",
        "\n"
      ]
    }
  ]
}