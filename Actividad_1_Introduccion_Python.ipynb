{
  "nbformat": 4,
  "nbformat_minor": 0,
  "metadata": {
    "colab": {
      "provenance": [],
      "authorship_tag": "ABX9TyOtLE/rFGpY6kbvhhxsyV2R",
      "include_colab_link": true
    },
    "kernelspec": {
      "name": "python3",
      "display_name": "Python 3"
    },
    "language_info": {
      "name": "python"
    }
  },
  "cells": [
    {
      "cell_type": "markdown",
      "metadata": {
        "id": "view-in-github",
        "colab_type": "text"
      },
      "source": [
        "<a href=\"https://colab.research.google.com/github/albasr06/TFM-Matrices-Python/blob/main/Actividad_1_Introduccion_Python.ipynb\" target=\"_parent\"><img src=\"https://colab.research.google.com/assets/colab-badge.svg\" alt=\"Open In Colab\"/></a>"
      ]
    },
    {
      "cell_type": "markdown",
      "source": [
        "a) Escribe un programa en Python que tome un número entero proporcionado por el usuario y compruebe si es par o impar (2 ptos)"
      ],
      "metadata": {
        "id": "6DblmrGQDnnP"
      }
    },
    {
      "cell_type": "code",
      "source": [
        "# Ejercicio 1: Comprobación de Números Pares e Impares\n",
        "\n",
        "numero = int(input(\"Introduce un número entero: \"))\n",
        "if numero % 2 == 0:\n",
        "    print(f\"El número {numero} es par.\")\n",
        "else:\n",
        "    print(f\"El número {numero} es impar.\")"
      ],
      "metadata": {
        "colab": {
          "base_uri": "https://localhost:8080/"
        },
        "id": "_ddlyT4kD7do",
        "outputId": "fe079cfc-fe44-4cd5-ef24-eb11787e1ea4"
      },
      "execution_count": null,
      "outputs": [
        {
          "output_type": "stream",
          "name": "stdout",
          "text": [
            "Introduce un número entero: 5\n",
            "El número 5 es impar.\n"
          ]
        }
      ]
    },
    {
      "cell_type": "markdown",
      "source": [
        "b) Escribe un programa en Python que sume los número del 1 al 100 (2 ptos)"
      ],
      "metadata": {
        "id": "YyD3gAmdEMrJ"
      }
    },
    {
      "cell_type": "code",
      "source": [
        "# Ejercicio 2: Suma de Números del 1 al 100\n",
        "\n",
        "suma_total = 0\n",
        "for i in range(1, 101):\n",
        "    suma_total += i\n",
        "print(f\"La suma de los números del 1 al 100 es: {suma_total}\")"
      ],
      "metadata": {
        "colab": {
          "base_uri": "https://localhost:8080/"
        },
        "id": "fQSS7NA3Ebam",
        "outputId": "30b7f73d-3466-44fa-b268-87df06f1e40b"
      },
      "execution_count": null,
      "outputs": [
        {
          "output_type": "stream",
          "name": "stdout",
          "text": [
            "La suma de los números del 1 al 100 es: 5050\n"
          ]
        }
      ]
    },
    {
      "cell_type": "markdown",
      "source": [
        "c) Escribe un programa en Python que calcule el doble de los elementos de una lista (2 ptos)"
      ],
      "metadata": {
        "id": "C2N2r1pSEerZ"
      }
    },
    {
      "cell_type": "code",
      "source": [
        "# Ejercicio 3: Calcular el doble de los Elementos de una Lista\n",
        "\n",
        "numeros = [1, 2, 3, 4, 5]\n",
        "for i in range(len(numeros)):\n",
        "    numeros[i] = numeros[i]* 2\n",
        "print(f\"Lista multiplicada por dos: {numeros}\")"
      ],
      "metadata": {
        "colab": {
          "base_uri": "https://localhost:8080/"
        },
        "id": "eK0TZnqIEnuc",
        "outputId": "cf08e2db-bb65-44a9-b549-c22bc9693f8e"
      },
      "execution_count": null,
      "outputs": [
        {
          "output_type": "stream",
          "name": "stdout",
          "text": [
            "Lista multiplicada por dos: [2, 4, 6, 8, 10]\n"
          ]
        }
      ]
    },
    {
      "cell_type": "markdown",
      "source": [
        "d) Define una función en Python que imprima los elementos en una lista (2 ptos)"
      ],
      "metadata": {
        "id": "c5HLy54jE9Zz"
      }
    },
    {
      "cell_type": "code",
      "source": [
        "# Ejercicio 4: Funcion para Imprimir Elementos de una Lista\n",
        "\n",
        "def imprimir_lista(lista):\n",
        "    for elemento in lista:\n",
        "        print(elemento)\n",
        "\n",
        "numeros = [1, 2, 3, 4, 5]\n",
        "imprimir_lista(numeros)"
      ],
      "metadata": {
        "colab": {
          "base_uri": "https://localhost:8080/"
        },
        "id": "6dYcDcyUFHep",
        "outputId": "6e40f8d6-5e0e-4d86-97ed-941758873522"
      },
      "execution_count": null,
      "outputs": [
        {
          "output_type": "stream",
          "name": "stdout",
          "text": [
            "1\n",
            "2\n",
            "3\n",
            "4\n",
            "5\n"
          ]
        }
      ]
    },
    {
      "cell_type": "markdown",
      "source": [
        "e) Escribe un programa en Python que cuente números positivos, negativos, y ceros en una lista (2 ptos)"
      ],
      "metadata": {
        "id": "c0JM2g73FKEY"
      }
    },
    {
      "cell_type": "code",
      "execution_count": null,
      "metadata": {
        "colab": {
          "base_uri": "https://localhost:8080/"
        },
        "id": "o-4zEMASvdcj",
        "outputId": "b97a5884-d052-4569-9d36-91ff78a94839"
      },
      "outputs": [
        {
          "output_type": "stream",
          "name": "stdout",
          "text": [
            "Positivos: 4, Negativos: 3, Ceros: 2\n"
          ]
        }
      ],
      "source": [
        "# Ejercicio 5: Contar Números Positivos, Negativos y Ceros en una Lista\n",
        "\n",
        "numeros = [1, -2, 0, 4, -5, 6, 0, -8, 9]\n",
        "positivos = 0\n",
        "negativos = 0\n",
        "ceros = 0\n",
        "\n",
        "for numero in numeros:\n",
        "    if numero > 0:\n",
        "        positivos += 1\n",
        "    elif numero < 0:\n",
        "        negativos += 1\n",
        "    else:\n",
        "        ceros += 1\n",
        "\n",
        "print(f\"Positivos: {positivos}, Negativos: {negativos}, Ceros: {ceros}\")\n"
      ]
    }
  ]
}