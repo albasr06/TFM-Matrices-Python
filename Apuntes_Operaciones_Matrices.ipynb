{
  "nbformat": 4,
  "nbformat_minor": 0,
  "metadata": {
    "colab": {
      "provenance": [],
      "authorship_tag": "ABX9TyMZVe71DFHAiEdrUfodoOlA",
      "include_colab_link": true
    },
    "kernelspec": {
      "name": "python3",
      "display_name": "Python 3"
    },
    "language_info": {
      "name": "python"
    }
  },
  "cells": [
    {
      "cell_type": "markdown",
      "metadata": {
        "id": "view-in-github",
        "colab_type": "text"
      },
      "source": [
        "<a href=\"https://colab.research.google.com/github/albasr06/TFM-Matrices-Python/blob/main/Apuntes_Operaciones_Matrices.ipynb\" target=\"_parent\"><img src=\"https://colab.research.google.com/assets/colab-badge.svg\" alt=\"Open In Colab\"/></a>"
      ]
    },
    {
      "cell_type": "code",
      "execution_count": null,
      "metadata": {
        "colab": {
          "base_uri": "https://localhost:8080/"
        },
        "id": "-OWYcQUZdEk4",
        "outputId": "d3860574-9e27-44ad-96a0-c0c3b8a37975"
      },
      "outputs": [
        {
          "output_type": "stream",
          "name": "stdout",
          "text": [
            "[[53 57 55]\n",
            " [51 55 53]\n",
            " [49 52 50]\n",
            " [47 50 48]]\n"
          ]
        }
      ],
      "source": [
        "import numpy as np\n",
        "\n",
        "# Definir las matrices A y B usando numpy.matrix\n",
        "A = np.matrix([\n",
        "    [25, 27, 26],\n",
        "    [24, 26, 25],\n",
        "    [23, 24, 23],\n",
        "    [22, 23, 22]\n",
        "])\n",
        "\n",
        "B = np.matrix([\n",
        "    [28, 30, 29],\n",
        "    [27, 29, 28],\n",
        "    [26, 28, 27],\n",
        "    [25, 27, 26]\n",
        "])\n",
        "\n",
        "# Sumar las matrices A y B\n",
        "suma_matrices = A + B\n",
        "print(suma_matrices)\n"
      ]
    },
    {
      "cell_type": "code",
      "source": [
        "resta_matrices = A - B\n",
        "print(resta_matrices)"
      ],
      "metadata": {
        "colab": {
          "base_uri": "https://localhost:8080/"
        },
        "id": "hFAFA9CrpXMD",
        "outputId": "7e8ce46c-c21d-4028-d449-e7de63aa0b00"
      },
      "execution_count": null,
      "outputs": [
        {
          "output_type": "stream",
          "name": "stdout",
          "text": [
            "[[-3 -3 -3]\n",
            " [-3 -3 -3]\n",
            " [-3 -4 -4]\n",
            " [-3 -4 -4]]\n"
          ]
        }
      ]
    },
    {
      "cell_type": "code",
      "source": [
        "2*A"
      ],
      "metadata": {
        "colab": {
          "base_uri": "https://localhost:8080/"
        },
        "id": "WPYsOxG6jUPZ",
        "outputId": "803f2373-cbb4-40c0-e616-12ede8145caf"
      },
      "execution_count": null,
      "outputs": [
        {
          "output_type": "execute_result",
          "data": {
            "text/plain": [
              "matrix([[50, 54, 52],\n",
              "        [48, 52, 50],\n",
              "        [46, 48, 46],\n",
              "        [44, 46, 44]])"
            ]
          },
          "metadata": {},
          "execution_count": 4
        }
      ]
    },
    {
      "cell_type": "code",
      "source": [
        "ventas = np.matrix([\n",
        "    [150, 200, 100],\n",
        "    [80, 120, 90],\n",
        "])\n",
        "precios = np.matrix([[20],[30],[50]])\n",
        "ingresos = np.dot(ventas,precios)\n",
        "print(ingresos)"
      ],
      "metadata": {
        "colab": {
          "base_uri": "https://localhost:8080/"
        },
        "id": "bqy6Mp4rxW3W",
        "outputId": "827822a1-be38-4fcb-8de5-125a953f752a"
      },
      "execution_count": null,
      "outputs": [
        {
          "output_type": "stream",
          "name": "stdout",
          "text": [
            "[[14000]\n",
            " [ 9700]]\n"
          ]
        }
      ]
    }
  ]
}