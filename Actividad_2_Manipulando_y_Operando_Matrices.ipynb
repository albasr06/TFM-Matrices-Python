{
  "nbformat": 4,
  "nbformat_minor": 0,
  "metadata": {
    "colab": {
      "provenance": [],
      "authorship_tag": "ABX9TyNFFob5tzZ2+TDsW5q0FJF5",
      "include_colab_link": true
    },
    "kernelspec": {
      "name": "python3",
      "display_name": "Python 3"
    },
    "language_info": {
      "name": "python"
    }
  },
  "cells": [
    {
      "cell_type": "markdown",
      "metadata": {
        "id": "view-in-github",
        "colab_type": "text"
      },
      "source": [
        "<a href=\"https://colab.research.google.com/github/albasr06/TFM-Matrices-Python/blob/main/Actividad_2_Manipulando_y_Operando_Matrices.ipynb\" target=\"_parent\"><img src=\"https://colab.research.google.com/assets/colab-badge.svg\" alt=\"Open In Colab\"/></a>"
      ]
    },
    {
      "cell_type": "markdown",
      "source": [
        "Define un ejemplo de matriz identidad, diagonal, triangular superior e inferior, y rectangular. (1 pto)"
      ],
      "metadata": {
        "id": "V5N3qQom9PQN"
      }
    },
    {
      "cell_type": "code",
      "source": [
        "\n",
        "import numpy as np\n",
        "# Definición de las matrices\n",
        "identidad = np.identity(5)\n",
        "diagonal = np.diag([1, 2, 3, 4])\n",
        "triangular_superior = np.array([[5, 6, 7, 0], [0, 8, 9, 0], [0, 0, 10, 11], [0, 0, 0, 12]])\n",
        "triangular_inferior = np.array([[5, 0, 0, 0], [6, 7, 0, 0], [8, 9, 10, 0], [11, 12, 13, 14]])\n",
        "rectangular = np.array([[1, 2, 3], [4, 5, 6]])"
      ],
      "metadata": {
        "id": "OTDQ7Oli9FiD"
      },
      "execution_count": null,
      "outputs": []
    },
    {
      "cell_type": "markdown",
      "source": [
        "Investiga en la documentación de numpy acerca de la función array_equal. Usala para hacer un código que me diga si una matriz es rectangular o cuadrada, y detecte si es diagonal, triangular o simétrica. Usa las matrices que definistes arriba para comprobar que funciona correctamente. (3 ptos)"
      ],
      "metadata": {
        "id": "qlaU459P70Ua"
      }
    },
    {
      "cell_type": "code",
      "execution_count": 4,
      "metadata": {
        "colab": {
          "base_uri": "https://localhost:8080/"
        },
        "id": "7YOPqkHJozg3",
        "outputId": "ae3e7673-1bd0-4276-b887-6272d3cfb2f5"
      },
      "outputs": [
        {
          "output_type": "stream",
          "name": "stdout",
          "text": [
            "La matriz \n",
            " [[1. 0. 0. 0. 0.]\n",
            " [0. 1. 0. 0. 0.]\n",
            " [0. 0. 1. 0. 0.]\n",
            " [0. 0. 0. 1. 0.]\n",
            " [0. 0. 0. 0. 1.]] es:\n",
            "Cuadrada\n",
            "Diagonal\n",
            "La matriz \n",
            " [[1 0 0 0]\n",
            " [0 2 0 0]\n",
            " [0 0 3 0]\n",
            " [0 0 0 4]] es:\n",
            "Cuadrada\n",
            "Diagonal\n",
            "La matriz \n",
            " [[ 5  6  7  0]\n",
            " [ 0  8  9  0]\n",
            " [ 0  0 10 11]\n",
            " [ 0  0  0 12]] es:\n",
            "Cuadrada\n",
            "Triangular superior\n",
            "La matriz \n",
            " [[ 5  0  0  0]\n",
            " [ 6  7  0  0]\n",
            " [ 8  9 10  0]\n",
            " [11 12 13 14]] es:\n",
            "Cuadrada\n",
            "Triangular inferior\n",
            "La matriz \n",
            " [[1 2 3]\n",
            " [4 5 6]] es:\n",
            "Rectangular\n"
          ]
        }
      ],
      "source": [
        "\n",
        "\n",
        "# Función para clasificar las matrices\n",
        "def clasificar_matriz(matriz):\n",
        "    print('La matriz \\n',matriz, 'es:')\n",
        "    if matriz.shape[0] != matriz.shape[1]:\n",
        "        print(\"Rectangular\")\n",
        "    else:\n",
        "        print(\"Cuadrada\")\n",
        "\n",
        "        if np.array_equal(matriz, np.diag(np.diagonal(matriz))):\n",
        "            print(\"Diagonal\")\n",
        "        elif np.array_equal(matriz, np.triu(matriz)):\n",
        "            print(\"Triangular superior\")\n",
        "        elif np.array_equal(matriz, np.tril(matriz)):\n",
        "            print(\"Triangular inferior\")\n",
        "        elif np.array_equal(matriz, matriz.T):\n",
        "            print(\"Simétrica\")\n",
        "        else:\n",
        "            print(\"Otra\")\n",
        "\n",
        "clasificar_matriz(identidad)\n",
        "clasificar_matriz(diagonal)\n",
        "clasificar_matriz(triangular_superior)\n",
        "clasificar_matriz(triangular_inferior)\n",
        "clasificar_matriz(rectangular)\n",
        ""
      ]
    },
    {
      "cell_type": "markdown",
      "source": [
        "Busca la definición de traza de una matriz, y define una función que la calcule.(2 ptos)"
      ],
      "metadata": {
        "id": "33By8Nf3-SxI"
      }
    },
    {
      "cell_type": "code",
      "source": [
        "\n",
        "\n",
        "def calcular_traza(matriz):\n",
        "  \"\"\"Calcula la traza de una matriz\"\"\"\n",
        "  if matriz.shape[0] != matriz.shape[1]:\n",
        "    return 0  # O cualquier otro valor que indique que no se puede calcular la traza\n",
        "  traza = 0\n",
        "  for i in range(matriz.shape[0]):\n",
        "    traza += matriz[i, i]\n",
        "  return traza\n",
        "\n",
        "# Ejemplo de uso:\n",
        "matriz_ejemplo = np.array([[1, 2, 3], [4, 5, 6], [7, 8, 9]])\n",
        "traza = calcular_traza(matriz_ejemplo)\n",
        "print(\"La traza de la matriz es:\", traza)"
      ],
      "metadata": {
        "colab": {
          "base_uri": "https://localhost:8080/"
        },
        "id": "vArQBIqh9lBB",
        "outputId": "3abd4a6a-0fb0-412d-deed-59185634447d"
      },
      "execution_count": 5,
      "outputs": [
        {
          "output_type": "stream",
          "name": "stdout",
          "text": [
            "La traza de la matriz es: 15\n"
          ]
        }
      ]
    },
    {
      "cell_type": "markdown",
      "source": [
        "Por lo general, el producto de matrices no es conmutativo. Crea una función en Python que compruebe, para dos matrices A y B, si se pueden multiplicar, y si es asi, si el producto es conmutativo o no. (4 ptos)\n",
        "\n"
      ],
      "metadata": {
        "id": "D6zIfswLAWnc"
      }
    },
    {
      "cell_type": "code",
      "source": [
        "\n",
        "\n",
        "def producto_y_conmutatividad(A, B):\n",
        "  \"\"\"\n",
        "  Calcula el producto de A por B y B por A, si es posible, y comprueba si el producto es conmutativo.\n",
        "\n",
        "  Retorna:\n",
        "    Una tupla que contiene:\n",
        "      - El producto de A por B, si es posible, o None si no lo es.\n",
        "      - El producto de B por A, si es posible, o None si no lo es.\n",
        "      - True si el producto es conmutativo y las matrices se pueden multiplicar, False si no lo es, o None si no se pueden multiplicar.\n",
        "  \"\"\"\n",
        "  if A.shape[1] == B.shape[0]:\n",
        "    AB = np.dot(A, B)\n",
        "  else:\n",
        "    AB = None\n",
        "\n",
        "  if B.shape[1] == A.shape[0]:\n",
        "    BA = np.dot(B, A)\n",
        "  else:\n",
        "    BA = None\n",
        "\n",
        "  if AB is not None and BA is not None:\n",
        "    if np.array_equal(AB, BA):\n",
        "      return AB, BA, True\n",
        "    else:\n",
        "      return AB, BA, False\n",
        "  else:\n",
        "    return AB, BA, None\n",
        "\n",
        "\n",
        "# Ejemplo de matrices no conmutativas\n",
        "A = np.array([[1, 2], [3, 4]])\n",
        "B = np.array([[5, 6], [7, 8]])\n",
        "\n",
        "AB, BA, conmutativo = producto_y_conmutatividad(A, B)\n",
        "\n",
        "if AB is not None and BA is not None:\n",
        "  print(\"A x B = \\n\", AB)\n",
        "  print(\"B x A = \\n\", BA)\n",
        "  if conmutativo:\n",
        "    print(\"El producto es conmutativo.\")\n",
        "  else:\n",
        "    print(\"El producto no es conmutativo.\")\n",
        "else:\n",
        "  print(\"No se pueden multiplicar las matrices.\")\n",
        "\n",
        "\n",
        "# Ejemplo de matrices conmutativas\n",
        "A = np.array([[1, 0], [0, 1]])  # Matriz identidad\n",
        "B = np.array([[2, 0], [0, 2]])  # Matriz diagonal\n",
        "\n",
        "AB, BA, conmutativo = producto_y_conmutatividad(A, B)\n",
        "\n",
        "if AB is not None and BA is not None:\n",
        "  print(\"\\nA x B = \\n\", AB)\n",
        "  print(\"B x A = \\n\", BA)\n",
        "  if conmutativo:\n",
        "    print(\"El producto es conmutativo.\")\n",
        "  else:\n",
        "    print(\"El producto no es conmutativo.\")\n",
        "else:\n",
        "  print(\"No se pueden multiplicar las matrices.\")"
      ],
      "metadata": {
        "colab": {
          "base_uri": "https://localhost:8080/"
        },
        "id": "hUQ4NG03-tcz",
        "outputId": "266702a5-040e-451e-ffe8-b106052a64d6"
      },
      "execution_count": 6,
      "outputs": [
        {
          "output_type": "stream",
          "name": "stdout",
          "text": [
            "A x B = \n",
            " [[19 22]\n",
            " [43 50]]\n",
            "B x A = \n",
            " [[23 34]\n",
            " [31 46]]\n",
            "El producto no es conmutativo.\n",
            "\n",
            "A x B = \n",
            " [[2 0]\n",
            " [0 2]]\n",
            "B x A = \n",
            " [[2 0]\n",
            " [0 2]]\n",
            "El producto es conmutativo.\n"
          ]
        }
      ]
    }
  ]
}